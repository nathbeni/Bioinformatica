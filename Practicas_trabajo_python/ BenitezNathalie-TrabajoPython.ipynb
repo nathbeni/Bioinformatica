{
 "cells": [
  {
   "cell_type": "markdown",
   "metadata": {},
   "source": [
    "# TRABAJO DE PYTHON\n",
    "\n",
    "### Este trabajo cuenta el 30% de la nota. La entrega será el 5 de Noviembre a las 23:59.\n",
    "\n",
    "### Resuelve los siguientes ejercicios en Python sin usar expresiones regulares\n",
    "\n",
    "#### Utiliza tantas celdas de código como necesites\n",
    "\n",
    "##\n",
    "\n",
    "\n",
    "\n",
    "\n",
    "\n",
    "\n",
    "\n"
   ]
  },
  {
   "cell_type": "markdown",
   "metadata": {},
   "source": [
    "### 1.- BUSCA LA SECUENCIA COMPLEMENTARIA\n",
    "#### Devuelve la secuencia complementaria de la siguiente secuencia de ADN"
   ]
  },
  {
   "cell_type": "code",
   "execution_count": 55,
   "metadata": {},
   "outputs": [],
   "source": [
    "my_dna = \"ACTGATCGATTACGTATAGTATTTGCTATCATACATATATATCGATGCGTTCAT\""
   ]
  },
  {
   "cell_type": "code",
   "execution_count": 56,
   "metadata": {},
   "outputs": [],
   "source": [
    "#Creamos una función que sustituya las secuencia de ADN por la secuencia complementaria\n",
    "def complementar_secuencia_adn(secuencia):\n",
    "    complemento = {'A': 'T', 'T': 'A', 'C': 'G', 'G': 'C'}\n",
    "    secuencia_complementaria = [complemento[base] for base in secuencia]\n",
    "    return ''.join(secuencia_complementaria)"
   ]
  },
  {
   "cell_type": "code",
   "execution_count": 57,
   "metadata": {},
   "outputs": [
    {
     "name": "stdout",
     "output_type": "stream",
     "text": [
      "Secuencia original (my_dna): ACTGATCGATTACGTATAGTATTTGCTATCATACATATATATCGATGCGTTCAT\n",
      "Secuencia complementaria (my_dna): TGACTAGCTAATGCATATCATAAACGATAGTATGTATATATAGCTACGCAAGTA\n"
     ]
    }
   ],
   "source": [
    "#Ejecutamos la función y imprimimos el resultado\n",
    "complementaria_my_dna = complementar_secuencia_adn(my_dna)\n",
    "print(f'Secuencia original (my_dna): {my_dna}')\n",
    "print(f'Secuencia complementaria (my_dna): {complementaria_my_dna}')"
   ]
  },
  {
   "cell_type": "markdown",
   "metadata": {},
   "source": [
    "##\n",
    "### 2.- FRAGMENTOS DE RESTRICCION\n",
    "#### Obtén los fragmentos de restricción de EcoRI, que tiene un sitio de corte en G*AATTC (la posición de corte se indica por el *).\n",
    "#### No uses expresiones regulares. \n",
    "#### Pista: utiliza la función find()"
   ]
  },
  {
   "cell_type": "code",
   "execution_count": 58,
   "metadata": {
    "scrolled": true
   },
   "outputs": [],
   "source": [
    "my_dna = \"ACTGATCGATTACGTATAGTATTTGCTATGAATTCCATACATATATATCGATGCGTTCAT\""
   ]
  },
  {
   "cell_type": "code",
   "execution_count": 59,
   "metadata": {},
   "outputs": [],
   "source": [
    "#Definimos la función que encontrará los fragmentos de restricción dentro de la secuencia y los devolveremos en forma de listado\n",
    "def encontrar_fragmentos_ecori(secuencia):\n",
    "    fragmentos_ecori = []\n",
    "    sitio_corte = \"GAATTC\"\n",
    "    while True:\n",
    "        indice_corte = secuencia.find(sitio_corte)\n",
    "        if indice_corte == -1:\n",
    "            break\n",
    "        fragmento_ecori = secuencia[:indice_corte + 1] \n",
    "        fragmentos_ecori.append(fragmento_ecori)\n",
    "        secuencia = secuencia[indice_corte + len(sitio_corte):]\n",
    "    return fragmentos_ecori"
   ]
  },
  {
   "cell_type": "code",
   "execution_count": 60,
   "metadata": {},
   "outputs": [],
   "source": [
    "#Ejecutamos la función\n",
    "fragmentos_ecori = encontrar_fragmentos_ecori(my_dna)"
   ]
  },
  {
   "cell_type": "code",
   "execution_count": 61,
   "metadata": {},
   "outputs": [
    {
     "name": "stdout",
     "output_type": "stream",
     "text": [
      "Secuencia de ADN: ACTGATCGATTACGTATAGTATTTGCTATGAATTCCATACATATATATCGATGCGTTCAT\n",
      "Fragmentos de restricción de EcoRI: ['ACTGATCGATTACGTATAGTATTTGCTATG']\n"
     ]
    }
   ],
   "source": [
    "#Imprimimos los resultados\n",
    "print(f'Secuencia de ADN: {my_dna}')\n",
    "print(f'Fragmentos de restricción de EcoRI: {fragmentos_ecori}')"
   ]
  },
  {
   "cell_type": "markdown",
   "metadata": {},
   "source": [
    "##\n",
    "### 3.- ENCUENTRA LOS EXONES\n",
    "#### Encuentra los exones en la siguiente secuencia\n",
    "1. El primer exón va de la primera base a la base 63 (empieza a contar desde 0)\n",
    "2. El segundo exón va de la base 91 (contando desde 0) hasta el final\n",
    "3. Calcula el porcentaje de secuencia codificante\n",
    "4. Imprime en pantalla la secuencia original con los exones en mayúsculas y los intrones en minúsculas"
   ]
  },
  {
   "cell_type": "code",
   "execution_count": 62,
   "metadata": {},
   "outputs": [],
   "source": [
    "genomic_dna = \"ATCGATCGATCGATCGACTGACTAGTCATAGCTATGCATGTAGCTACTCGATCGATCGATCGATCGATCGATCGATCGATCGATCATGCTATCATCGATCGATATCGATGCATCGACTACTAT\""
   ]
  },
  {
   "cell_type": "code",
   "execution_count": 63,
   "metadata": {},
   "outputs": [],
   "source": [
    "#Definimos el inicio y fin del primer y segundo exón teniendo en cuenta que empieza a contar desde 0\n",
    "primer_exon_inicio = 0\n",
    "primer_exon_fin = 62\n",
    "segundo_exon_inicio = 90\n",
    "segundo_exon_fin = len(genomic_dna)"
   ]
  },
  {
   "cell_type": "code",
   "execution_count": 64,
   "metadata": {},
   "outputs": [],
   "source": [
    "#Guardamos en variables los exones e intrones\n",
    "primer_exon = genomic_dna[primer_exon_inicio:primer_exon_fin]\n",
    "segundo_exon = genomic_dna[segundo_exon_inicio:segundo_exon_fin]\n",
    "intrones = genomic_dna[primer_exon_fin:segundo_exon_inicio]"
   ]
  },
  {
   "cell_type": "code",
   "execution_count": 65,
   "metadata": {},
   "outputs": [],
   "source": [
    "#Calculamos la longitud total y la longitud de la secuencia para calcular el porcentaje\n",
    "longitud_total = len(genomic_dna)\n",
    "longitud_secuencia_codificante = len(primer_exon) + len(segundo_exon)\n",
    "porcentaje_codificante = (longitud_secuencia_codificante / longitud_total) * 100"
   ]
  },
  {
   "cell_type": "code",
   "execution_count": 66,
   "metadata": {},
   "outputs": [],
   "source": [
    "#Formateamos la secuencia para tener los exones en mayúsculas y los intrones en minúsculas\n",
    "secuencia_formateada = genomic_dna[:primer_exon_inicio] + primer_exon.upper() + intrones.lower() + segundo_exon.upper()"
   ]
  },
  {
   "cell_type": "code",
   "execution_count": 67,
   "metadata": {
    "scrolled": true
   },
   "outputs": [
    {
     "name": "stdout",
     "output_type": "stream",
     "text": [
      "Primer exón: ATCGATCGATCGATCGACTGACTAGTCATAGCTATGCATGTAGCTACTCGATCGATCGATCG\n",
      "Segundo exón: ATCATCGATCGATATCGATGCATCGACTACTAT\n",
      "Intrones: ATCGATCGATCGATCGATCGATCATGCT\n",
      "Porcentaje de secuencia codificante: 77.235772%\n",
      "Secuencia con exones en mayúsculas e intrones en minúsculas:\n",
      "ATCGATCGATCGATCGACTGACTAGTCATAGCTATGCATGTAGCTACTCGATCGATCGATCGatcgatcgatcgatcgatcgatcatgctATCATCGATCGATATCGATGCATCGACTACTAT\n"
     ]
    }
   ],
   "source": [
    "#Imprimimos los resultados\n",
    "print(f\"Primer exón: {primer_exon}\")\n",
    "print(f\"Segundo exón: {segundo_exon}\")\n",
    "print(f\"Intrones: {intrones}\")\n",
    "print(f\"Porcentaje de secuencia codificante: {porcentaje_codificante:f}%\")\n",
    "print(\"Secuencia con exones en mayúsculas e intrones en minúsculas:\")\n",
    "print(secuencia_formateada)"
   ]
  },
  {
   "cell_type": "markdown",
   "metadata": {},
   "source": [
    "##\n",
    "### 4.- ESCRIBE UN ARCHIVO FASTA\n",
    "#### Escribe un archivo FASTA que tenga las siguientes secuencias:\n",
    "1. ABC123 \tATCGTACGATCGATCGATCGCTAGACGTATCG\n",
    "2. DEF456 \tactgatcgacgatcgatcgatcacgact\n",
    "3. HIJ789 \tACTGAC-ACTGT--ACTGTA----CATGTG\n",
    "\n",
    "###### *Ten en cuenta que todas las secuencias deben tener solo ATGC caracteres y tienen que estar en mayúsculas\n",
    "###### Recuerda que las secuencias en FASTA empiezan por una línea \">identificador\" y la siguiente línea tiene la secuencia\n",
    "\n",
    "###### >ABC123\n",
    "###### ATCGTACGATCGATCGATCGCTAGACGTATCG\n",
    "###### >DEF456\n",
    "###### ACTGATCGACGATCGATCGATCACGACT\n",
    "###### >HIJ789\n",
    "###### ACTGACACTGTACTGTACATGTG"
   ]
  },
  {
   "cell_type": "code",
   "execution_count": 68,
   "metadata": {},
   "outputs": [
    {
     "name": "stdout",
     "output_type": "stream",
     "text": [
      "ABC123\n",
      "ATCGTACGATCGATCGATCGCTAGACGTATCG\n",
      "DEF456\n",
      "actgatcgacgatcgatcgatcacgact\n",
      "HIJ789\n",
      "ACTGAC-ACTGT--ACTGTA----CATGTG\n"
     ]
    }
   ],
   "source": [
    "d={\n",
    "    'ABC123' :'ATCGTACGATCGATCGATCGCTAGACGTATCG',\n",
    "    'DEF456' : 'actgatcgacgatcgatcgatcacgact',\n",
    "    'HIJ789' : 'ACTGAC-ACTGT--ACTGTA----CATGTG'\n",
    "}\n",
    "\n",
    "for key in d.keys():\n",
    "    print(key)\n",
    "    print(d[key])"
   ]
  },
  {
   "cell_type": "code",
   "execution_count": 71,
   "metadata": {},
   "outputs": [],
   "source": [
    "#Corregimos los errores de las secuencias proporcionadas \n",
    "for key in d.keys():\n",
    "    d[key] = d[key].upper()\n",
    "    d[key] = ''.join([base for base in d[key] if base in 'ATGC'])"
   ]
  },
  {
   "cell_type": "code",
   "execution_count": 72,
   "metadata": {},
   "outputs": [],
   "source": [
    "#Creamos un archivo y escribimos las secuencias corregidas\n",
    "with open('secuencias.fasta', 'w') as fasta_file:\n",
    "    for key, value in d.items():\n",
    "        fasta_file.write(f'>{key}\\n')\n",
    "        fasta_file.write(f'{value}\\n')\n"
   ]
  },
  {
   "cell_type": "code",
   "execution_count": 73,
   "metadata": {},
   "outputs": [
    {
     "name": "stdout",
     "output_type": "stream",
     "text": [
      "Archivo FASTA: secuencias.fasta\n"
     ]
    }
   ],
   "source": [
    "#Imprimimos mensaje de confirmación\n",
    "print(\"Archivo FASTA: secuencias.fasta\")"
   ]
  },
  {
   "cell_type": "markdown",
   "metadata": {},
   "source": [
    "##\n",
    "### 5.- ELIMINA ADAPTADORES\n",
    "#### El archivo input.txt tiene unas secuencias de ADN, una por línea. \n",
    "#### Todas las secuencias empiezan con el mismo adaptador que llega hasta la base 14. Escribe un programa que:\n",
    "1. Remueva el adaptador de la secuencia y escriba la secuencia limpia en un archivo\n",
    "2. Imprima en pantalla la longitud de cada secuencia limpia"
   ]
  },
  {
   "cell_type": "code",
   "execution_count": 74,
   "metadata": {},
   "outputs": [],
   "source": [
    "#Leemos el contenido del archivo \"input.txt\"\n",
    "with open('input.txt', 'r') as archivo:\n",
    "    secuencias_adn = archivo.readlines()"
   ]
  },
  {
   "cell_type": "code",
   "execution_count": 75,
   "metadata": {},
   "outputs": [],
   "source": [
    "#Creamos una variable de ayuda para guardar las secuencias limpias\n",
    "secuencias_limpias = []"
   ]
  },
  {
   "cell_type": "code",
   "execution_count": 76,
   "metadata": {},
   "outputs": [
    {
     "name": "stdout",
     "output_type": "stream",
     "text": [
      "Longitud de la secuencia limpia: 42\n",
      "Longitud de la secuencia limpia: 37\n",
      "Longitud de la secuencia limpia: 48\n",
      "Longitud de la secuencia limpia: 33\n",
      "Longitud de la secuencia limpia: 47\n"
     ]
    }
   ],
   "source": [
    "#Limpiamos las secuencias\n",
    "for secuencia in secuencias_adn:\n",
    "    secuencia_limpia = secuencia[14:].strip()  \n",
    "    secuencias_limpias.append(secuencia_limpia)\n",
    "    print(f'Longitud de la secuencia limpia: {len(secuencia_limpia)}')"
   ]
  },
  {
   "cell_type": "code",
   "execution_count": 79,
   "metadata": {},
   "outputs": [],
   "source": [
    "#Creamos un archivo para guardarlas\n",
    "with open('secuencias_limpas.txt', 'w') as archivo_limpio:\n",
    "    for secuencia in secuencias_limpias:\n",
    "        archivo_limpio.write(f'{secuencia}')"
   ]
  },
  {
   "cell_type": "code",
   "execution_count": 80,
   "metadata": {},
   "outputs": [
    {
     "name": "stdout",
     "output_type": "stream",
     "text": [
      "Secuencias limpias escritas en 'secuencias_limpas.txt'\n"
     ]
    }
   ],
   "source": [
    "#Imprimimos mensaje de confirmación\n",
    "print(\"Secuencias limpias escritas en 'secuencias_limpas.txt'\")"
   ]
  },
  {
   "cell_type": "markdown",
   "metadata": {},
   "source": [
    "##\n",
    "### 6.- PORCENTAJE DE AMINO ACIDOS\n",
    "#### Escribe una función que tome dos argumentos: una secuencia de proteínas y un amino ácido. \n",
    "#### Queremos que devuelva el porcentaje del amino ácido en la secuencia de proteínas. \n",
    "#### Una vez que tengas hecha tu función, emplea las siguientes aserciones para comprobar tu código."
   ]
  },
  {
   "cell_type": "code",
   "execution_count": 86,
   "metadata": {},
   "outputs": [],
   "source": [
    "#Creamos una función que calcula el porcentaje del amino ácido en la secuencia de proteínas\n",
    "def porcentaje_prote(proteina, aminoacido):\n",
    "    proteina = proteina.upper()  \n",
    "    aminoacido = aminoacido.upper() \n",
    "    if aminoacido not in \"ACDEFGHIKLMNPQRSTVWY\":\n",
    "        return 0  \n",
    "    cantidad_aminoacido = proteina.count(aminoacido)\n",
    "    porcentaje = (cantidad_aminoacido / len(proteina)) * 100\n",
    "    return porcentaje"
   ]
  },
  {
   "cell_type": "code",
   "execution_count": 87,
   "metadata": {},
   "outputs": [],
   "source": [
    "#Corremos las aserciones para comprobar nuestra función\n",
    "assert porcentaje_prote(\"MSRSLLLRFLLFLLLLPPLP\", \"M\") == 5\n",
    "assert porcentaje_prote(\"MSRSLLLRFLLFLLLLPPLP\", \"r\") == 10\n",
    "assert porcentaje_prote(\"msrslllrfllfllllpplp\", \"L\") == 50\n",
    "assert porcentaje_prote(\"MSRSLLLRFLLFLLLLPPLP\", \"Y\") == 0"
   ]
  },
  {
   "cell_type": "code",
   "execution_count": 88,
   "metadata": {},
   "outputs": [
    {
     "name": "stdout",
     "output_type": "stream",
     "text": [
      "comprobación de aserciones\n"
     ]
    }
   ],
   "source": [
    "#Imprimimos mensaje de confirmación\n",
    "print(f'comprobación de aserciones')"
   ]
  }
 ],
 "metadata": {
  "kernelspec": {
   "display_name": "Python 3 (ipykernel)",
   "language": "python",
   "name": "python3"
  },
  "language_info": {
   "codemirror_mode": {
    "name": "ipython",
    "version": 3
   },
   "file_extension": ".py",
   "mimetype": "text/x-python",
   "name": "python",
   "nbconvert_exporter": "python",
   "pygments_lexer": "ipython3",
   "version": "3.11.4"
  }
 },
 "nbformat": 4,
 "nbformat_minor": 4
}
